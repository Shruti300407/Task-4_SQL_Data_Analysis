{
  "nbformat": 4,
  "nbformat_minor": 0,
  "metadata": {
    "colab": {
      "provenance": []
    },
    "kernelspec": {
      "name": "python3",
      "display_name": "Python 3"
    },
    "language_info": {
      "name": "python"
    }
  },
  "cells": [
    {
      "cell_type": "code",
      "source": [
        "import pandas as pd\n",
        "import sqlite3\n",
        "\n",
        "# Create new or overwrite existing database\n",
        "conn = sqlite3.connect('/content/olist.db')\n",
        "\n",
        "# Load CSVs and create tables\n",
        "customers = pd.read_csv('/content/olist_customers_dataset.csv')\n",
        "order_payments = pd.read_csv('/content/olist_order_payments_dataset.csv')\n",
        "order_items = pd.read_csv('/content/olist_order_items_dataset.csv')\n",
        "geolocation = pd.read_csv('/content/olist_geolocation_dataset.csv')\n",
        "order_reviews = pd.read_csv('/content/olist_order_reviews_dataset.csv')\n",
        "orders = pd.read_csv('/content/olist_orders_dataset.csv')\n",
        "products = pd.read_csv('/content/olist_products_dataset.csv')\n",
        "sellers = pd.read_csv('/content/olist_sellers_dataset.csv')\n",
        "product_category_name_translation = pd.read_csv('/content/product_category_name_translation.csv')\n",
        "\n",
        "customers.to_sql('customers', conn, if_exists='replace', index=False)\n",
        "order_payments.to_sql('order_payments', conn, if_exists='replace', index=False)\n",
        "order_items.to_sql('order_items', conn, if_exists='replace', index=False)\n",
        "orders.to_sql('orders', conn, if_exists='replace', index=False)\n",
        "products.to_sql('products', conn, if_exists='replace', index=False)\n",
        "sellers.to_sql('sellers', conn, if_exists='replace', index=False)\n",
        "product_category_name_translation.to_sql('product_category_name_translation', conn, if_exists='replace', index=False)\n",
        "geolocation.to_sql('geolocation', conn, if_exists='replace', index=False)\n",
        "order_reviews.to_sql('order_reviews', conn, if_exists='replace', index=False)\n",
        "\n",
        "conn.close()\n"
      ],
      "metadata": {
        "id": "UYpM2f0fJhui"
      },
      "execution_count": 18,
      "outputs": []
    },
    {
      "cell_type": "code",
      "source": [
        "from google.colab import drive\n",
        "drive.mount('/content/drive')"
      ],
      "metadata": {
        "id": "hg8Q0szRCu3Y"
      },
      "execution_count": null,
      "outputs": []
    }
  ]
}